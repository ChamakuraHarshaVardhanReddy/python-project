{
  "nbformat": 4,
  "nbformat_minor": 0,
  "metadata": {
    "colab": {
      "provenance": []
    },
    "kernelspec": {
      "name": "python3",
      "display_name": "Python 3"
    },
    "language_info": {
      "name": "python"
    }
  },
  "cells": [
    {
      "cell_type": "code",
      "source": [
        "pip install forex-python"
      ],
      "metadata": {
        "colab": {
          "base_uri": "https://localhost:8080/"
        },
        "id": "T5rYrT9bzIaw",
        "outputId": "b1b5c166-d33c-48e3-9582-7342cb6b7974"
      },
      "execution_count": 20,
      "outputs": [
        {
          "output_type": "stream",
          "name": "stdout",
          "text": [
            "Looking in indexes: https://pypi.org/simple, https://us-python.pkg.dev/colab-wheels/public/simple/\n",
            "Requirement already satisfied: forex-python in /usr/local/lib/python3.7/dist-packages (1.8)\n",
            "Requirement already satisfied: simplejson in /usr/local/lib/python3.7/dist-packages (from forex-python) (3.17.6)\n",
            "Requirement already satisfied: requests in /usr/local/lib/python3.7/dist-packages (from forex-python) (2.23.0)\n",
            "Requirement already satisfied: chardet<4,>=3.0.2 in /usr/local/lib/python3.7/dist-packages (from requests->forex-python) (3.0.4)\n",
            "Requirement already satisfied: idna<3,>=2.5 in /usr/local/lib/python3.7/dist-packages (from requests->forex-python) (2.10)\n",
            "Requirement already satisfied: certifi>=2017.4.17 in /usr/local/lib/python3.7/dist-packages (from requests->forex-python) (2022.9.24)\n",
            "Requirement already satisfied: urllib3!=1.25.0,!=1.25.1,<1.26,>=1.21.1 in /usr/local/lib/python3.7/dist-packages (from requests->forex-python) (1.24.3)\n"
          ]
        }
      ]
    },
    {
      "cell_type": "code",
      "execution_count": 25,
      "metadata": {
        "colab": {
          "base_uri": "https://localhost:8080/"
        },
        "id": "hASoRz0Uy1sI",
        "outputId": "8572ef87-cd68-4b4b-c15f-4d3e2177610e"
      },
      "outputs": [
        {
          "output_type": "stream",
          "name": "stdout",
          "text": [
            "Please enter the amount you want to convert: 50\n",
            "Please enter the currency code that has to be converted: INR\n",
            "Please enter the currency code to convert: GBP\n",
            "You are converting 50 INR to GBP .\n",
            "The converted rate is: 0.5398543569489015\n"
          ]
        }
      ],
      "source": [
        "\n",
        "from forex_python.converter import CurrencyRates\n",
        "\n",
        "cr = CurrencyRates()\n",
        "\n",
        "amount = int(input(\"Please enter the amount you want to convert: \"))\n",
        "\n",
        "from_currency = input(\"Please enter the currency code that has to be converted: \").upper()\n",
        "\n",
        "to_currency = input(\"Please enter the currency code to convert: \").upper()\n",
        "\n",
        "print(\"You are converting\", amount, from_currency, \"to\", to_currency,\".\")\n",
        "\n",
        "output = cr.convert(from_currency, to_currency, amount)\n",
        "\n",
        "print(\"The converted rate is:\", output)"
      ]
    },
    {
      "cell_type": "code",
      "source": [],
      "metadata": {
        "id": "moEKUIM1y38_"
      },
      "execution_count": null,
      "outputs": []
    }
  ]
}